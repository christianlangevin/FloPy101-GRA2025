{
 "cells": [
  {
   "cell_type": "markdown",
   "id": "290481a0-d984-4ec7-8576-f6955893a3b7",
   "metadata": {},
   "source": [
    "# Load the USGS LACP MODFLOW 6 Model\n",
    "\n",
    "Culling, D.P., Paulinski, S.R., and Rush, M.J., 2022, MODFLOW-6 model to update and extend the Los Angeles Coastal Plain Groundwater Model: U.S. Geological Survey data release, https://doi.org/10.5066/P9TJD4IE."
   ]
  },
  {
   "cell_type": "code",
   "execution_count": null,
   "id": "171cb8be-5674-4e0b-ad12-cc196f169d34",
   "metadata": {},
   "outputs": [],
   "source": [
    "import os\n",
    "import contextily as cx\n",
    "import folium\n",
    "import numpy as np\n",
    "import flopy"
   ]
  },
  {
   "cell_type": "markdown",
   "id": "962106c5-e926-4752-98ca-62aa7d8a0f5d",
   "metadata": {},
   "source": [
    "## Helpful Functions and Variable Definitions"
   ]
  },
  {
   "cell_type": "code",
   "execution_count": null,
   "id": "e7fa0ac3-1c14-4c88-8f54-91b6c9f9d3d4",
   "metadata": {},
   "outputs": [],
   "source": [
    "from contextlib import contextmanager\n",
    "@contextmanager\n",
    "def change_dir(destination):\n",
    "    current_dir = os.getcwd()\n",
    "    os.chdir(destination)\n",
    "    try:\n",
    "        yield\n",
    "    finally:\n",
    "        os.chdir(current_dir)\n",
    "\n",
    "\n",
    "def get_gridprops():\n",
    "    nlay = 12\n",
    "    nrow = 256\n",
    "    ncol = 312\n",
    "    dx = 659.96646693 / 3.2808\n",
    "    dy = dx\n",
    "    xll = 355046.48  \n",
    "    yll = 3777032.06 - ncol * dy\n",
    "    rotation = 0.\n",
    "\n",
    "    delr = np.empty((ncol), dtype=float)\n",
    "    delr.fill(dx)\n",
    "    delc = np.empty((nrow), dtype=float)\n",
    "    delc.fill(dy)\n",
    "\n",
    "    gridprops = {\n",
    "        \"nlay\": nlay,\n",
    "        \"nrow\": nrow,\n",
    "        \"ncol\": ncol,\n",
    "        \"delr\": delr,\n",
    "        \"delc\": delc,\n",
    "        \"xoff\": xll,\n",
    "        \"yoff\": yll,\n",
    "        \"angrot\": rotation,\n",
    "        \"crs\": \"EPSG:26911\",\n",
    "    }\n",
    "\n",
    "    return gridprops\n",
    "\n",
    "def get_modelgrid():\n",
    "    return flopy.discretization.StructuredGrid(\n",
    "        **get_gridprops()\n",
    "    )\n",
    "\n",
    "esri_tile = folium.TileLayer(\n",
    "    tiles=\"https://server.arcgisonline.com/ArcGIS/rest/services/World_Imagery/MapServer/tile/{z}/{y}/{x}\",\n",
    "    attr=\"Esri\",\n",
    "    name=\"Esri Satellite\",\n",
    "    overlay=False,\n",
    "    control=True,\n",
    ")"
   ]
  },
  {
   "cell_type": "markdown",
   "id": "f1cba212-4aef-4f72-a6e6-dc2293b9a897",
   "metadata": {},
   "source": [
    "## Load and Interrogate the Model"
   ]
  },
  {
   "cell_type": "code",
   "execution_count": null,
   "id": "d648b9a7-341f-498c-8f17-44e9f85e20fc",
   "metadata": {},
   "outputs": [],
   "source": [
    "ws = \"../lacp\"\n",
    "with change_dir(ws):\n",
    "    sim = flopy.mf6.MFSimulation.load()"
   ]
  },
  {
   "cell_type": "code",
   "execution_count": null,
   "id": "c75422bc-a0b6-4063-90c1-13d2b687bb4b",
   "metadata": {},
   "outputs": [],
   "source": [
    "sim.model_names"
   ]
  },
  {
   "cell_type": "code",
   "execution_count": null,
   "id": "4950152d-2b05-4bf6-ae42-92bf9edd85e6",
   "metadata": {},
   "outputs": [],
   "source": [
    "gwf = sim.get_model(sim.model_names[0])"
   ]
  },
  {
   "cell_type": "code",
   "execution_count": null,
   "id": "bc5136b1",
   "metadata": {},
   "outputs": [],
   "source": [
    "gwf.get_package_list()"
   ]
  },
  {
   "cell_type": "code",
   "execution_count": null,
   "id": "4de14422-9968-4332-a2e6-b5452439b13a",
   "metadata": {},
   "outputs": [],
   "source": [
    "# accessing data\n",
    "npf = gwf.npf\n",
    "hk = npf.k.get_data()\n",
    "hk.min(), hk.max()"
   ]
  },
  {
   "cell_type": "markdown",
   "id": "420873c6",
   "metadata": {},
   "source": [
    "## Simplest Plotting"
   ]
  },
  {
   "cell_type": "code",
   "execution_count": null,
   "id": "7a89be7a",
   "metadata": {},
   "outputs": [],
   "source": [
    "# plot by array\n",
    "# gwf.dis.top.plot()"
   ]
  },
  {
   "cell_type": "code",
   "execution_count": null,
   "id": "abae03bd",
   "metadata": {},
   "outputs": [],
   "source": [
    "# plot by package\n",
    "# gwf.dis.plot()"
   ]
  },
  {
   "cell_type": "markdown",
   "id": "83577ded",
   "metadata": {},
   "source": [
    "## Customizable Plotting"
   ]
  },
  {
   "cell_type": "code",
   "execution_count": null,
   "id": "4d238cf2-ee09-486a-9e0a-4006e5a3fd0d",
   "metadata": {},
   "outputs": [],
   "source": [
    "# pxs = flopy.plot.PlotCrossSection(gwf, line={\"row\": 100})\n",
    "# pxs.plot_grid()\n",
    "# pxs.plot_array(npf.k.array)"
   ]
  },
  {
   "cell_type": "code",
   "execution_count": null,
   "id": "3faf1494",
   "metadata": {},
   "outputs": [],
   "source": [
    "# pmv = flopy.plot.PlotMapView(gwf, layer=0)\n",
    "# pmv.plot_bc(\"GHB\")\n",
    "# pmv.plot_bc(\"DRN\")\n",
    "# # pmv.plot_array(npf.k.array, cmap=\"viridis\", vmin=hk.min(), vmax=hk.max())\n",
    "# pmv.plot_inactive(alpha=0.5)"
   ]
  },
  {
   "cell_type": "markdown",
   "id": "fb9a9d2b-a72d-4263-ba55-9581bbc22154",
   "metadata": {},
   "source": [
    "## Better Plots"
   ]
  },
  {
   "cell_type": "code",
   "execution_count": null,
   "id": "957948a7-d9f2-44a3-873f-5ee0456c6251",
   "metadata": {},
   "outputs": [],
   "source": [
    "modelgrid = get_modelgrid()\n",
    "gdf = modelgrid.geo_dataframe\n",
    "gdf"
   ]
  },
  {
   "cell_type": "code",
   "execution_count": null,
   "id": "1fbb45f3",
   "metadata": {},
   "outputs": [],
   "source": [
    "# gdf.plot()"
   ]
  },
  {
   "cell_type": "code",
   "execution_count": null,
   "id": "cacbe058-dcf4-4563-8b6a-f7a3d24da0f0",
   "metadata": {},
   "outputs": [],
   "source": [
    "gdf[\"idomain0\"] = gwf.dis.idomain.array[0].flatten()\n",
    "gdf"
   ]
  },
  {
   "cell_type": "code",
   "execution_count": null,
   "id": "d4e404b4-c52d-48a0-bc51-9825c6c5c0ae",
   "metadata": {},
   "outputs": [],
   "source": [
    "gdf_idomain = gdf.dissolve(by=\"idomain0\", aggfunc=\"sum\", as_index=False)\n",
    "gdf_idomain = gdf_idomain.drop(0)\n",
    "gdf_idomain"
   ]
  },
  {
   "cell_type": "code",
   "execution_count": null,
   "id": "476a873f-1ac6-4414-9de3-b3d0007dc3e2",
   "metadata": {
    "scrolled": true
   },
   "outputs": [],
   "source": [
    "gdf_idomain.explore(tiles=esri_tile, cmap=\"jet\", legend=True, figsize=(10, 10))"
   ]
  },
  {
   "cell_type": "code",
   "execution_count": null,
   "id": "16e64706-6991-4ee2-a862-30a4b1519bb0",
   "metadata": {},
   "outputs": [],
   "source": [
    "ax = gdf.plot(figsize=(10, 10), alpha=0.5, facecolor=\"none\", edgecolor=\"black\", lw=0.5)\n",
    "source_url = \"https://services.arcgisonline.com/ArcGIS/rest/services/World_Imagery/MapServer/tile/{z}/{y}/{x}\"\n",
    "source_url = None\n",
    "cx.add_basemap(ax, crs=gdf.crs, source=source_url)"
   ]
  },
  {
   "cell_type": "code",
   "execution_count": null,
   "id": "bff7c239-4764-446d-8860-b0e4dd52ba59",
   "metadata": {},
   "outputs": [],
   "source": [
    "ax = gdf.plot(figsize=(10, 10), alpha=0.5, facecolor=\"none\", edgecolor=\"black\", lw=0.1)\n",
    "pmv = flopy.plot.PlotMapView(modelgrid=modelgrid, ax=ax)\n",
    "pmv.plot_inactive(ibound=gwf.dis.idomain.array[1], alpha=0.25)\n",
    "source_url = \"https://services.arcgisonline.com/ArcGIS/rest/services/World_Imagery/MapServer/tile/{z}/{y}/{x}\"\n",
    "# source_url = None\n",
    "cx.add_basemap(ax, crs=gdf.crs, source=source_url)"
   ]
  },
  {
   "cell_type": "code",
   "execution_count": null,
   "id": "35f4b48a-2a72-428f-826a-8526dea9e6f6",
   "metadata": {},
   "outputs": [],
   "source": []
  }
 ],
 "metadata": {
  "kernelspec": {
   "display_name": "gra25flopy",
   "language": "python",
   "name": "python3"
  },
  "language_info": {
   "codemirror_mode": {
    "name": "ipython",
    "version": 3
   },
   "file_extension": ".py",
   "mimetype": "text/x-python",
   "name": "python",
   "nbconvert_exporter": "python",
   "pygments_lexer": "ipython3",
   "version": "3.13.5"
  }
 },
 "nbformat": 4,
 "nbformat_minor": 5
}
